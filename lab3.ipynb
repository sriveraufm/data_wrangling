{
 "cells": [
  {
   "cell_type": "code",
   "execution_count": 6,
   "metadata": {},
   "outputs": [],
   "source": [
    "import sqlite3\n",
    "import pandas as pd\n",
    "\n",
    "conn = sqlite3.connect('sql-murder-mystery.db')\n",
    "cursor = conn.cursor()\n"
   ]
  },
  {
   "cell_type": "code",
   "execution_count": 14,
   "metadata": {},
   "outputs": [
    {
     "name": "stdout",
     "output_type": "stream",
     "text": [
      "crime_scene_report\n",
      "drivers_license\n",
      "person\n",
      "facebook_event_checkin\n",
      "interview\n",
      "get_fit_now_member\n",
      "get_fit_now_check_in\n",
      "income\n",
      "solution\n"
     ]
    }
   ],
   "source": [
    "# Query to list all tables\n",
    "tables_query = \"SELECT name FROM sqlite_master WHERE type='table';\"\n",
    "cursor.execute(tables_query)\n",
    "\n",
    "# Fetch all table names\n",
    "table_names = cursor.fetchall()\n",
    "\n",
    "# Print the table names\n",
    "for table in table_names:\n",
    "    print(table[0])\n"
   ]
  },
  {
   "cell_type": "code",
   "execution_count": 13,
   "metadata": {},
   "outputs": [
    {
     "name": "stdout",
     "output_type": "stream",
     "text": [
      "       date    type                                        description  \\\n",
      "0  20180115  murder  Security footage shows that there were 2 witne...   \n",
      "\n",
      "       city  \n",
      "0  SQL City  \n"
     ]
    }
   ],
   "source": [
    "query = \"SELECT * from crime_scene_report where date = '20180115' and type = 'murder' and city = 'SQL City'\"\n",
    "\n",
    "df = pd.read_sql_query(query, conn)\n",
    "print(df)\n",
    "\n",
    "#Security footage shows that there were 2 witnesses. The first witness lives at the last house on \"Northwestern Dr\". The second witness, named Annabel, lives somewhere on \"Franklin Ave\"."
   ]
  },
  {
   "cell_type": "code",
   "execution_count": 21,
   "metadata": {},
   "outputs": [
    {
     "name": "stdout",
     "output_type": "stream",
     "text": [
      "      id            name  license_id  address_number address_street_name  \\\n",
      "0  16371  Annabel Miller      490173             103        Franklin Ave   \n",
      "\n",
      "         ssn  \n",
      "0  318771143  \n"
     ]
    }
   ],
   "source": [
    "query = \"SELECT * from person where name like '%Annabel%' and address_street_name = 'Franklin Ave'\"\n",
    "\n",
    "df = pd.read_sql_query(query, conn)\n",
    "print(df)"
   ]
  },
  {
   "cell_type": "code",
   "execution_count": 24,
   "metadata": {},
   "outputs": [
    {
     "name": "stdout",
     "output_type": "stream",
     "text": [
      "      id            name  license_id  address_number address_street_name  \\\n",
      "0  14887  Morty Schapiro      118009            4919     Northwestern Dr   \n",
      "\n",
      "         ssn  \n",
      "0  111564949  \n"
     ]
    }
   ],
   "source": [
    "query = \"SELECT * from person where address_street_name = 'Northwestern Dr' and address_number = (SELECT MAX(address_number) FROM person WHERE address_street_name = 'Northwestern Dr')\"\n",
    "\n",
    "df = pd.read_sql_query(query, conn)\n",
    "print(df)"
   ]
  },
  {
   "cell_type": "code",
   "execution_count": 29,
   "metadata": {},
   "outputs": [
    {
     "name": "stdout",
     "output_type": "stream",
     "text": [
      "   person_id                                         transcript\n",
      "0      14887  I heard a gunshot and then saw a man run out. ...\n",
      "1      16371  I saw the murder happen, and I recognized the ...\n"
     ]
    }
   ],
   "source": [
    "query = '''\n",
    "    SELECT * \n",
    "    from interview \n",
    "        where person_id in (16371, 14887)\n",
    "'''\n",
    "\n",
    "df = pd.read_sql_query(query, conn)\n",
    "print(df)"
   ]
  },
  {
   "cell_type": "code",
   "execution_count": 34,
   "metadata": {},
   "outputs": [
    {
     "name": "stdout",
     "output_type": "stream",
     "text": [
      "      id  person_id           name  membership_start_date membership_status\n",
      "0  48Z38      49550  Tomas Baisley               20170203            silver\n",
      "1  48Z7A      28819   Joe Germuska               20160305              gold\n",
      "2  48Z55      67318  Jeremy Bowers               20160101              gold\n"
     ]
    }
   ],
   "source": [
    "query = '''\n",
    "    SELECT * \n",
    "    from get_fit_now_member\n",
    "    where id like '48Z%'\n",
    "'''\n",
    "\n",
    "df = pd.read_sql_query(query, conn)\n",
    "print(df)"
   ]
  },
  {
   "cell_type": "code",
   "execution_count": 32,
   "metadata": {},
   "outputs": [
    {
     "name": "stdout",
     "output_type": "stream",
     "text": [
      "       id  age  height eye_color hair_color  gender plate_number   car_make  \\\n",
      "0  183779   21      65      blue     blonde  female       H42W0X     Toyota   \n",
      "1  423327   30      70     brown      brown    male       0H42W2  Chevrolet   \n",
      "2  664760   21      71     black      black    male       4H42WR     Nissan   \n",
      "\n",
      "  car_model  \n",
      "0     Prius  \n",
      "1  Spark LS  \n",
      "2    Altima  \n"
     ]
    }
   ],
   "source": [
    "query = '''\n",
    "    SELECT * \n",
    "    from drivers_license\n",
    "    where plate_number like '%H42W%'\n",
    "'''\n",
    "\n",
    "df = pd.read_sql_query(query, conn)\n",
    "print(df)"
   ]
  },
  {
   "cell_type": "code",
   "execution_count": 37,
   "metadata": {},
   "outputs": [
    {
     "name": "stdout",
     "output_type": "stream",
     "text": [
      "  membership_id  check_in_date  check_in_time  check_out_time\n",
      "0         48Z7A       20180109           1600            1730\n",
      "1         48Z55       20180109           1530            1700\n"
     ]
    }
   ],
   "source": [
    "query = '''\n",
    "    SELECT * \n",
    "    from get_fit_now_check_in\n",
    "    where check_in_date = '20180109'\n",
    "    and membership_id in (\n",
    "       SELECT distinct id\n",
    "    from get_fit_now_member\n",
    "    where id like '48Z%'\n",
    "    )\n",
    "'''\n",
    "\n",
    "df = pd.read_sql_query(query, conn)\n",
    "print(df)"
   ]
  },
  {
   "cell_type": "code",
   "execution_count": null,
   "metadata": {},
   "outputs": [],
   "source": [
    "# Joe Germuska , Jeremy Bowers"
   ]
  },
  {
   "cell_type": "code",
   "execution_count": 40,
   "metadata": {},
   "outputs": [
    {
     "name": "stdout",
     "output_type": "stream",
     "text": [
      "      id            name  license_id  address_number    address_street_name  \\\n",
      "0  51739  Tushar Chandra      664760             312                 Phi St   \n",
      "1  67318   Jeremy Bowers      423327             530  Washington Pl, Apt 3A   \n",
      "2  78193  Maxine Whitely      183779             110                Fisk Rd   \n",
      "\n",
      "         ssn  \n",
      "0  137882671  \n",
      "1  871539279  \n",
      "2  137882671  \n"
     ]
    }
   ],
   "source": [
    "query = '''\n",
    "    SELECT * \n",
    "    from person where license_id in (  SELECT distinct id\n",
    "    from drivers_license\n",
    "    where plate_number like '%H42W%')\n",
    "'''\n",
    "\n",
    "df = pd.read_sql_query(query, conn)\n",
    "print(df)"
   ]
  },
  {
   "cell_type": "code",
   "execution_count": 42,
   "metadata": {},
   "outputs": [
    {
     "data": {
      "text/plain": [
       "\"Congrats, you found the murderer! But wait, there's more... If you think you're up for a challenge, try querying the interview transcript of the murderer to find the real villian behind this crime. If you feel especially confident in your SQL skills, try to complete this final step with no more than 2 queries. Use this same INSERT statement with your new suspect to check your answer.\""
      ]
     },
     "execution_count": 42,
     "metadata": {},
     "output_type": "execute_result"
    }
   ],
   "source": [
    "\n",
    "cursor = conn.cursor()\n",
    "sql = \"INSERT INTO solution VALUES (1, 'Jeremy Bowers')\"\n",
    "cursor.execute(sql)\n",
    "conn.commit() \n",
    "var = pd.read_sql(\"SELECT value FROM solution\", conn)\n",
    "var.iloc[0,0]\n"
   ]
  }
 ],
 "metadata": {
  "kernelspec": {
   "display_name": "base",
   "language": "python",
   "name": "python3"
  },
  "language_info": {
   "codemirror_mode": {
    "name": "ipython",
    "version": 3
   },
   "file_extension": ".py",
   "mimetype": "text/x-python",
   "name": "python",
   "nbconvert_exporter": "python",
   "pygments_lexer": "ipython3",
   "version": "3.9.12"
  },
  "orig_nbformat": 4
 },
 "nbformat": 4,
 "nbformat_minor": 2
}
